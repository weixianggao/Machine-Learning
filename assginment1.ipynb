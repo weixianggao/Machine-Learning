{
  "nbformat": 4,
  "nbformat_minor": 0,
  "metadata": {
    "colab": {
      "name": "assginment1.ipynb",
      "version": "0.3.2",
      "provenance": [],
      "collapsed_sections": [],
      "toc_visible": true,
      "include_colab_link": true
    },
    "kernelspec": {
      "name": "python3",
      "display_name": "Python 3"
    }
  },
  "cells": [
    {
      "cell_type": "markdown",
      "metadata": {
        "id": "view-in-github",
        "colab_type": "text"
      },
      "source": [
        "<a href=\"https://colab.research.google.com/github/weixianggao/Machine-Learning/blob/master/assginment1.ipynb\" target=\"_parent\"><img src=\"https://colab.research.google.com/assets/colab-badge.svg\" alt=\"Open In Colab\"/></a>"
      ]
    },
    {
      "cell_type": "markdown",
      "metadata": {
        "id": "8TGc8_auTViw",
        "colab_type": "text"
      },
      "source": [
        "# Review Report on \"The Computational Complexity of Probabilistic Inference Using Bayesian Belief Networks\"\n",
        "\n",
        "\n",
        "\n"
      ]
    },
    {
      "cell_type": "markdown",
      "metadata": {
        "id": "tqM6kb0QPcoi",
        "colab_type": "text"
      },
      "source": [
        "## Introduction"
      ]
    },
    {
      "cell_type": "markdown",
      "metadata": {
        "id": "sA-OfxCvPq9V",
        "colab_type": "text"
      },
      "source": [
        "The ability to read and understand technical literature is important in the machine learning career. This paper is to practice this skill by analysing a technical article. The article named The Computational Complexity of Probabilistic Inference Using Bayesian Belief Networks. The reason why I chose it as my review material was this article is introducing Bayesian belief networks, a specific modal which is present by the directed graph. This is similar to the algorithm I learnt in last semester. This knowledge with graphs attracted me a lot so I continue to study this field. This paper will start by describing the main content of the article I chose. In the second part I will analyse its innovation, for example, does the author use any new method or algorithm? Then I will do the Technical quality review, Is this article professionally strong? After that I will give my opinion, I fully agree with the author’s decision, Bayesian belief networks cannot be developed as a general probabilistic inference algorithm. Finally, I will rate the quality of the presentation of the article."
      ]
    },
    {
      "cell_type": "markdown",
      "metadata": {
        "id": "iFwLneY6PcMn",
        "colab_type": "text"
      },
      "source": [
        "## Content  "
      ]
    },
    {
      "cell_type": "markdown",
      "metadata": {
        "id": "IE3d7xIkP5u4",
        "colab_type": "text"
      },
      "source": [
        "This article is talking about advantages and the limitation of the Bayesian belief network (also named as causal net and probabilistic causal network) to see if this model could be the general algorithm in probabilistic inference. \n",
        "Firstly, it introduces that the belief network with a directed acyclic graph structure with node and arcs and each node has its different value. The author describes how the joint probability is calculated. Through this method, we do not have to represent explicitly all 2\" probabilities in the joint-probability space (Cooper, 1990). We could calculate the joint probabilities from any possible set of any number of variables to gain the complete joint-probability space. The author also mentions although belief networks can represent causal relationships, they are not restricted to such causal interpretations (Cooper, 1990). In summary, belief networks could be a more effective and efficient probabilistic model. Then the author amply describes what is the probabilistic inference based on the belief networks and proves the problem is NP-Hard by introducing the concepts of 3SAT and PIBNETD. In this part, the author uses plenty of function expression. In the next part, the author lists the advantages of proving PIBNET is NP-hard by using 3SAT and these advantages could be also used in developing other additional complexity results. Finally, the author gives us his opinion, belief networks can make probabilistic inference performed efficiently but it has its limitation (Cooper, 1990). We should try to develop other algorithms to achieve computationally tractable probabilistic inference. \n",
        "\n"
      ]
    },
    {
      "cell_type": "markdown",
      "metadata": {
        "id": "_KQDxPdiP-3_",
        "colab_type": "text"
      },
      "source": [
        "## Innovation "
      ]
    },
    {
      "cell_type": "markdown",
      "metadata": {
        "id": "W4f1InFBQDcT",
        "colab_type": "text"
      },
      "source": [
        "Researchers already know belief networks is an efficient method for representing probabilistic dependencies. They try to find if the belief networks could be used as a representation for artificial intelligence. The innovation of this article is the way the author proves his arguments. Through analysis the 3SAT and PIBNETD, he tells us the belief networks is NP-Hard, so the problem is resolved. Firstly, he introduces the definition of 3SAT and then shows how to transform 3SAT to PIBNETD. He proves PIBNET is NP-Hard by reducing 3SAT then it is clear to find the additional complexity results on belief networks. During this process, the author also uses dummy variables to make the observation works well. This article combines principles and examples. Principles tell the reader his ideas and examples allow the reader to understand better. He also compares the belief networks and other algorithms in different parts in this article to show the benefits and limitation of the belief networks. in the Discussion part, he suggests three algorithms as the direction in future research."
      ]
    },
    {
      "cell_type": "markdown",
      "metadata": {
        "id": "g2DnckLNQIyw",
        "colab_type": "text"
      },
      "source": [
        "## Technical quality "
      ]
    },
    {
      "cell_type": "markdown",
      "metadata": {
        "id": "iVqQ93hSQLi0",
        "colab_type": "text"
      },
      "source": [
        "The technical quality of this article is relatively high. It means it is an academic article of the professional machine learning area. For myself, Data Analytics is my sub-major, so there are many concepts from subjects in major courses I haven’t learnt before and difficult to understand. I have to learn more information from reliable material on websites. This article is not for the general public. The comparisons the author made between belief networks and the algorithms which have been developed is fairly enough. And through the argument, the author ensures that the belief networks is NP-Hard, then he got his decision, we should give the belief networks a low priority. His decision comes from the observation which has Adequate reasons.\n",
        "We could trust this decision and use it with the study and observation in the future. \n"
      ]
    },
    {
      "cell_type": "markdown",
      "metadata": {
        "id": "LNBIrbKHQN16",
        "colab_type": "text"
      },
      "source": [
        "## Application and X-factor "
      ]
    },
    {
      "cell_type": "markdown",
      "metadata": {
        "id": "i08PN95hQQ0w",
        "colab_type": "text"
      },
      "source": [
        "To answer the question that if the belief networks could be used in probabilistic inference, I totally agree with the author’s opinion. It has its benefits, but the limitation also exists at the same time. We can be sure that belief networks is NP-Hard through the analysis from the author. Therefore, we should give this model a low priority and find other algorithms. As the author said, some important fields require large multiply connected networks and some alternative methods could work better (Cooper, 1990). We already got more efficient methods such as average-case, special-case, and approximation algorithms, it has enough reason we can slow down the development of belief networks in the area of probabilistic inference. For the activation of this article, I do think some students who prefer to work with graphic stuff will be interested in it. But depends on the knowledge I known from the websites, belief networks is mostly used in biology and medicine, and rarely used in the rest academic area. I think this situation will restrict its popularity between the students. Take myself as an example, I am not interested in biology and medicine so it is probably I will stop investigating the belief networks."
      ]
    },
    {
      "cell_type": "markdown",
      "metadata": {
        "id": "G-dogAjEQTcA",
        "colab_type": "text"
      },
      "source": [
        "## Presentation "
      ]
    },
    {
      "cell_type": "markdown",
      "metadata": {
        "id": "kZRxqO56QWM1",
        "colab_type": "text"
      },
      "source": [
        "The structure of this article is clear, and the format of font and graph is suitable to read. The objective of this article is explicit, and the process of argument meets the logical process. The presentation style is matching the requirements of academic articles. The author uses a graph to make the principle visible. Furthermore, as I mentioned above, he takes examples of some Incomprehensible concepts in order to give convenience to the reader. He follows the academic rules when he quotes or cites others, but I am still wondering if the in-text citation style in this article is correct and if it is, which style does he use. I traversed the different citation style on the website, and I cannot find anyone that matches the style that the author uses. "
      ]
    },
    {
      "cell_type": "markdown",
      "metadata": {
        "id": "p3PY2LQYQYoA",
        "colab_type": "text"
      },
      "source": [
        "## References"
      ]
    },
    {
      "cell_type": "markdown",
      "metadata": {
        "id": "Wd5XT5pJQbW8",
        "colab_type": "text"
      },
      "source": [
        "COO90: Cooper, G. (1990). The computational complexity of probabilistic inference using Bayesian belief networks. Artificial Intelligence, 42(2-3), pp.393-405.\n",
        "\n"
      ]
    }
  ]
}