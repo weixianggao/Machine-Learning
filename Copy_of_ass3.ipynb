{
  "nbformat": 4,
  "nbformat_minor": 0,
  "metadata": {
    "colab": {
      "name": "Copy of ass3.ipynb",
      "provenance": [],
      "collapsed_sections": [],
      "toc_visible": true,
      "include_colab_link": true
    },
    "kernelspec": {
      "name": "python3",
      "display_name": "Python 3"
    }
  },
  "cells": [
    {
      "cell_type": "markdown",
      "metadata": {
        "id": "view-in-github",
        "colab_type": "text"
      },
      "source": [
        "<a href=\"https://colab.research.google.com/github/weixianggao/Machine-Learning/blob/master/Copy_of_ass3.ipynb\" target=\"_parent\"><img src=\"https://colab.research.google.com/assets/colab-badge.svg\" alt=\"Open In Colab\"/></a>"
      ]
    },
    {
      "cell_type": "markdown",
      "metadata": {
        "id": "YkrqfZLgj3Nf",
        "colab_type": "text"
      },
      "source": [
        "# Assignment 3: "
      ]
    },
    {
      "cell_type": "markdown",
      "metadata": {
        "id": "2s9pXH-ikKbr",
        "colab_type": "text"
      },
      "source": [
        "## Question"
      ]
    },
    {
      "cell_type": "markdown",
      "metadata": {
        "id": "wCgT-deJkZX-",
        "colab_type": "text"
      },
      "source": [
        "Following your graduation, you are hired by a polling organisation as a data analyst. As social media has exploded and transformed the way people interact with each other, it would be a great idea to use messages collected from social media to predict how the user can be converted to change his/her support. List three challenges to solving this problem. With reference to existing approaches, describe the design of your system. Discuss the ethical and social consequence of this study. "
      ]
    },
    {
      "cell_type": "markdown",
      "metadata": {
        "id": "eaNxMKyNkcOM",
        "colab_type": "text"
      },
      "source": [
        "##Introduction"
      ]
    },
    {
      "cell_type": "markdown",
      "metadata": {
        "id": "Mpy1csc_khXI",
        "colab_type": "text"
      },
      "source": [
        "Social media is playing important roles in the election, not only because it could serve as a platform for voting, but it could spread different voices to the public. “Overall, I am proud of our role giving people a voice in this election. We helped more than 2 million people register to vote and based on our estimates we got a similar number of people to vote who might have stayed home otherwise.” said Mark Zuckerberg (2016). Will the messages in social media change users’ votes? This report will talk about the system I designed for our company. Firstly, I will illustrate three challenges we meet with building our system then give an overview of my system. Finally, I will also talk about the ethical issues relating to our system."
      ]
    },
    {
      "cell_type": "markdown",
      "metadata": {
        "id": "XUYt1pA2kkNB",
        "colab_type": "text"
      },
      "source": [
        "## List 3 challenges"
      ]
    },
    {
      "cell_type": "markdown",
      "metadata": {
        "id": "TqYYYS7gkn0X",
        "colab_type": "text"
      },
      "source": [
        "### What should be selected as attributes?"
      ]
    },
    {
      "cell_type": "markdown",
      "metadata": {
        "id": "Pgzuu_hykshg",
        "colab_type": "text"
      },
      "source": [
        "This is the fundamental problem should be considered first at all. There is no doubt we need to collect basic data such as gender, age，etc. We also need to catch the data of thousands of messages a person viewed; this is a dynamic dataset since it was populated when a new message was passed to the user, and it is not easy to process with. On the other hand, the vote made by the user will be affected by the information received, but the people with different personality traits are completely different in response to different information, and the personality trait is the key variable. It is pretty difficult to analyse a person’s personality traits. And analysing people’s personalities is another task to implement. This has increased our work."
      ]
    },
    {
      "cell_type": "markdown",
      "metadata": {
        "id": "Uz97RgGVkzDA",
        "colab_type": "text"
      },
      "source": [
        "### How to collect valid data?"
      ]
    },
    {
      "cell_type": "markdown",
      "metadata": {
        "id": "uBzL9ycgk2CO",
        "colab_type": "text"
      },
      "source": [
        "There are two types of information we need to collect and analyse; one is that the news we pass to the user to guide them with their different positions if there are many candidates; one is the interaction between users such as the messages they sent in forums. With the second type, people may add emojis or abbreviations in their sentences so when our system catch data it should ignore these because it is different to tell a computer to distinguish such Interference sources. Also, people may have different emotions when they express the same speech. It cannot be analysed by any algorithm including neural network."
      ]
    },
    {
      "cell_type": "markdown",
      "metadata": {
        "id": "eAjsipKxk4I9",
        "colab_type": "text"
      },
      "source": [
        "### Make a better model? "
      ]
    },
    {
      "cell_type": "markdown",
      "metadata": {
        "id": "dDUYjn7ek9gp",
        "colab_type": "text"
      },
      "source": [
        "The general method that data analysts raise their model is to improve the data pre-processing and implement a more perfect algorithm. One way is to get new data, which is cumbersome and requires a lot of costs. “Importantly, however, studying large samples of digital footprints may also present large risks related to privacy and scientific misconduct (Kosinski et al., 2015; Hall & Flynn, 2001; Barchard & Williams, 2008).” said by (Kosinski et al., 2016). This issue is, unfortunately, exacerbated by the lack of clear guidelines; the protocols related to designing large-scale online studies, storing data, and analysing results are scarce and often contradictory (Solberg, 2010; Wilson, Gosling, & Graham, 2012). We could also focus on the algorithm, but it is quite labour-intensive to design the framework, which is more in need of experience."
      ]
    },
    {
      "cell_type": "markdown",
      "metadata": {
        "id": "S8JajTO_lCvf",
        "colab_type": "text"
      },
      "source": [
        "## Description of system"
      ]
    },
    {
      "cell_type": "markdown",
      "metadata": {
        "id": "8w_UsuxYlEbN",
        "colab_type": "text"
      },
      "source": [
        "The system I designed is based on the Analysis of Users' Behaviour and the analysis of users’ daily preferences, personality characteristics, education level, etc. I will take ten users of our system as an example dataset to show how does our system work. The first step is to record the data of these users’ support like, if they chose Candidate A or Candidate B. Then we divide all users who already voted into two groups and post different kinds of messages, news and advertisements in trending box and the search bar. For Group A, we encourage users to interact only with the news which shares the same perspective. For Group B, we show the opposite of what he supports. For example, if the user selected Candidate B in his first vote, we can give him some posts about \"Candidate B doesn't wear clothes in the White House\" and “Candidate A held a community care event in New York last week”. The next step is to collect the data of the second vote and compare it with the last time to see: if the users in Group A kept their mind or changed for some reason although they have always been guided by information that fits their values? If the users in Group B have indeed changed their minds and the proportion of this situation. After the process of analysing, our system could find the rules of how a user will change his support."
      ]
    },
    {
      "cell_type": "markdown",
      "metadata": {
        "id": "QIsXTpKllGoX",
        "colab_type": "text"
      },
      "source": [
        "## Ethical problem"
      ]
    },
    {
      "cell_type": "markdown",
      "metadata": {
        "id": "RoWBTvPDlIsD",
        "colab_type": "text"
      },
      "source": [
        "For the ethical aspect, this system may inspire some media which are controlled by enterprises to design the way of advertising to profit. There also some media withstand the pressure from the Political people then carry out accurate news feeds and achieve brainwashing purposes. Some people are particularly sensitive to this operation.\n",
        "General public are more likely to trust the organisation which is in good fame so they may think that Facebook is unbiased, but it is actually influenced by the political man. It is unfair if people can't follow the natural development of things. It’s horrifying to think about it. To conclude, if this is linked to politics, it may have a bad influence, and there are too many aspects involved. If this happens, it will be difficult to deal with."
      ]
    },
    {
      "cell_type": "markdown",
      "metadata": {
        "id": "cHFYeEuWlMYO",
        "colab_type": "text"
      },
      "source": [
        "## Reference"
      ]
    },
    {
      "cell_type": "markdown",
      "metadata": {
        "id": "l49LWbiolOgi",
        "colab_type": "text"
      },
      "source": [
        "Barchard, K. A., & Williams, J. (2008). Practical advice for conducting ethical online experiments and questionnaires for United States psychologists. Behavior Research Methods, 40, 1111–1128. http://dx.doi.org/10.3758/BRM.40.4.1111\n",
        "\n",
        "---\n",
        "\n",
        "Kosinski, M., Wang, Y., Lakkaraju, H. and Leskovec, J. (2016). Mining big data to extract patterns and predict real-life outcomes. Psychological Methods, 21(4), pp.493-506.\n",
        "\n",
        "\n",
        "---\n",
        "\n",
        "\n",
        "Mark Zuckerberg. (2016) Available at: https://www.facebook.com/zuck/posts/i-want-to-share-some-thoughts-on-facebook-and-the-electionour-goal-is-to-give-ev/10103253901916271/ [Accessed 8 Oct. 2019].\n",
        "\n",
        "\n",
        "---\n",
        "\n",
        "\n",
        "Solberg, L. (2010). Data mining on Facebook: A free space for researchers or an IRB nightmare?Journal of Law, Technology & Policy, 2, 311–433.\n"
      ]
    }
  ]
}