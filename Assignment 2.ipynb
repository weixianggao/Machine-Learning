{
  "nbformat": 4,
  "nbformat_minor": 0,
  "metadata": {
    "colab": {
      "name": "Cart 2.0.ipynb",
      "provenance": [],
      "collapsed_sections": [],
      "toc_visible": true,
      "include_colab_link": true
    },
    "kernelspec": {
      "display_name": "Python 3",
      "language": "python",
      "name": "python3"
    },
    "language_info": {
      "codemirror_mode": {
        "name": "ipython",
        "version": 3
      },
      "file_extension": ".py",
      "mimetype": "text/x-python",
      "name": "python",
      "nbconvert_exporter": "python",
      "pygments_lexer": "ipython3",
      "version": "3.7.3"
    }
  },
  "cells": [
    {
      "cell_type": "markdown",
      "metadata": {
        "id": "view-in-github",
        "colab_type": "text"
      },
      "source": [
        "<a href=\"https://colab.research.google.com/github/weixianggao/Machine-Learning/blob/master/Assignment%202.ipynb\" target=\"_parent\"><img src=\"https://colab.research.google.com/assets/colab-badge.svg\" alt=\"Open In Colab\"/></a>"
      ]
    },
    {
      "cell_type": "markdown",
      "metadata": {
        "id": "St7Oxcj1fpNr",
        "colab_type": "text"
      },
      "source": [
        "# 31005_A2: Programming the decision tree (CART) algorithm"
      ]
    },
    {
      "cell_type": "markdown",
      "metadata": {
        "id": "aiOb9X3GgMu9",
        "colab_type": "text"
      },
      "source": [
        "Hong Kung(12431868) & Weixiang Gao(12765653) "
      ]
    },
    {
      "cell_type": "markdown",
      "metadata": {
        "id": "H2L5wQVwswaD",
        "colab_type": "text"
      },
      "source": [
        "Video link: https://www.youtube.com/watch?v=koAg_y_l3VY&feature=youtu.be\n",
        "<br>"
      ]
    },
    {
      "cell_type": "markdown",
      "metadata": {
        "id": "gDh38jUnqN_-",
        "colab_type": "text"
      },
      "source": [
        "## Introduction\n",
        "\n"
      ]
    },
    {
      "cell_type": "markdown",
      "metadata": {
        "id": "P4rukaq44laH",
        "colab_type": "text"
      },
      "source": [
        "Analysis of data by building models has been widely used in various fields, especially to analyse the different aspect of goods in the market. Diamond is one of the hottest investment commodities in recent years, the price range is  very large according to its quality differences in many aspects.<br>\n",
        "\n",
        "Therefore, the goal of our project is simple: to program a decision tree to ***classify*** the price rank of diamonds(low, medium, high). To achieve this goal, we use the **dataset(diamonds.csv)** from Kaggle to train and test our decision tree model. The most appropriate choice in this case is a structure-simple binary tree. We choose to use the Classfication And Regression Tree (CART). Since all the data we used is discrete, a ***classification tree*** instead of regression tree will be created. The tree algorithm detail and model building will be discussed in the following part.<br>\n",
        "\n",
        "The input of our project is the diamond dataset which used for training and testing. The output of our project is the CART decision tree and its accuracy of test. And finally we will talk about the ethical problem related to our project."
      ]
    },
    {
      "cell_type": "markdown",
      "metadata": {
        "id": "hZjtF6Kk_CEb",
        "colab_type": "text"
      },
      "source": [
        "## Exploration"
      ]
    },
    {
      "cell_type": "markdown",
      "metadata": {
        "id": "AeB-4yA1rtk8",
        "colab_type": "text"
      },
      "source": [
        "### Identify Challenge"
      ]
    },
    {
      "cell_type": "markdown",
      "metadata": {
        "id": "PMFBxa0Ji5Jr",
        "colab_type": "text"
      },
      "source": [
        "The main challenge of this project is CART only support binary split, which means data can only split into two parts(yes answer to splitter, no answer to splitter), the main challenge is to design the model of these issues and determine the splitters under basic CART theory. \n"
      ]
    },
    {
      "cell_type": "markdown",
      "metadata": {
        "id": "n6V5SMygL4fE",
        "colab_type": "text"
      },
      "source": [
        "### Preparation"
      ]
    },
    {
      "cell_type": "markdown",
      "metadata": {
        "id": "W0qQCPVF_UWk",
        "colab_type": "text"
      },
      "source": [
        "To start our program, we need to import all the libraries we need for this project."
      ]
    },
    {
      "cell_type": "code",
      "metadata": {
        "colab_type": "code",
        "id": "pQI6cQqZ_h9H",
        "colab": {}
      },
      "source": [
        "# ndarray processing\n",
        "import numpy as np\n",
        "# Dataframe processing\n",
        "import pandas as pd \n",
        "\n",
        "# for randomly selecting train/test data from dataframe\n",
        "import random\n",
        "# \"pretty-print\" arbitrary data structure(dict object of a tree in our case) in clearer form\n",
        "from pprint import pprint"
      ],
      "execution_count": 0,
      "outputs": []
    },
    {
      "cell_type": "markdown",
      "metadata": {
        "id": "kyREpwYpeLqk",
        "colab_type": "text"
      },
      "source": [
        "then, let's load and check the source dataframe."
      ]
    },
    {
      "cell_type": "code",
      "metadata": {
        "colab_type": "code",
        "id": "qqSyoI3uCb3P",
        "outputId": "70e5fefb-0f58-4f9d-a11d-b46638f262b4",
        "colab": {
          "base_uri": "https://localhost:8080/",
          "height": 204
        }
      },
      "source": [
        "url = 'https://raw.githubusercontent.com/STKKKKK/UTS_ML_2019_ID12431868/master/31005_ML_A2/diamonds.csv'\n",
        "\n",
        "df = pd.read_csv(url)\n",
        "df.head()"
      ],
      "execution_count": 0,
      "outputs": [
        {
          "output_type": "execute_result",
          "data": {
            "text/html": [
              "<div>\n",
              "<style scoped>\n",
              "    .dataframe tbody tr th:only-of-type {\n",
              "        vertical-align: middle;\n",
              "    }\n",
              "\n",
              "    .dataframe tbody tr th {\n",
              "        vertical-align: top;\n",
              "    }\n",
              "\n",
              "    .dataframe thead th {\n",
              "        text-align: right;\n",
              "    }\n",
              "</style>\n",
              "<table border=\"1\" class=\"dataframe\">\n",
              "  <thead>\n",
              "    <tr style=\"text-align: right;\">\n",
              "      <th></th>\n",
              "      <th>Unnamed: 0</th>\n",
              "      <th>carat</th>\n",
              "      <th>cut</th>\n",
              "      <th>color</th>\n",
              "      <th>clarity</th>\n",
              "      <th>depth</th>\n",
              "      <th>table</th>\n",
              "      <th>price</th>\n",
              "      <th>x</th>\n",
              "      <th>y</th>\n",
              "      <th>z</th>\n",
              "    </tr>\n",
              "  </thead>\n",
              "  <tbody>\n",
              "    <tr>\n",
              "      <th>0</th>\n",
              "      <td>1</td>\n",
              "      <td>0.23</td>\n",
              "      <td>Ideal</td>\n",
              "      <td>E</td>\n",
              "      <td>SI2</td>\n",
              "      <td>61.5</td>\n",
              "      <td>55.0</td>\n",
              "      <td>326</td>\n",
              "      <td>3.95</td>\n",
              "      <td>3.98</td>\n",
              "      <td>2.43</td>\n",
              "    </tr>\n",
              "    <tr>\n",
              "      <th>1</th>\n",
              "      <td>2</td>\n",
              "      <td>0.21</td>\n",
              "      <td>Premium</td>\n",
              "      <td>E</td>\n",
              "      <td>SI1</td>\n",
              "      <td>59.8</td>\n",
              "      <td>61.0</td>\n",
              "      <td>326</td>\n",
              "      <td>3.89</td>\n",
              "      <td>3.84</td>\n",
              "      <td>2.31</td>\n",
              "    </tr>\n",
              "    <tr>\n",
              "      <th>2</th>\n",
              "      <td>3</td>\n",
              "      <td>0.23</td>\n",
              "      <td>Good</td>\n",
              "      <td>E</td>\n",
              "      <td>VS1</td>\n",
              "      <td>56.9</td>\n",
              "      <td>65.0</td>\n",
              "      <td>327</td>\n",
              "      <td>4.05</td>\n",
              "      <td>4.07</td>\n",
              "      <td>2.31</td>\n",
              "    </tr>\n",
              "    <tr>\n",
              "      <th>3</th>\n",
              "      <td>4</td>\n",
              "      <td>0.29</td>\n",
              "      <td>Premium</td>\n",
              "      <td>I</td>\n",
              "      <td>VS2</td>\n",
              "      <td>62.4</td>\n",
              "      <td>58.0</td>\n",
              "      <td>334</td>\n",
              "      <td>4.20</td>\n",
              "      <td>4.23</td>\n",
              "      <td>2.63</td>\n",
              "    </tr>\n",
              "    <tr>\n",
              "      <th>4</th>\n",
              "      <td>5</td>\n",
              "      <td>0.31</td>\n",
              "      <td>Good</td>\n",
              "      <td>J</td>\n",
              "      <td>SI2</td>\n",
              "      <td>63.3</td>\n",
              "      <td>58.0</td>\n",
              "      <td>335</td>\n",
              "      <td>4.34</td>\n",
              "      <td>4.35</td>\n",
              "      <td>2.75</td>\n",
              "    </tr>\n",
              "  </tbody>\n",
              "</table>\n",
              "</div>"
            ],
            "text/plain": [
              "   Unnamed: 0  carat      cut color clarity  ...  table  price     x     y     z\n",
              "0           1   0.23    Ideal     E     SI2  ...   55.0    326  3.95  3.98  2.43\n",
              "1           2   0.21  Premium     E     SI1  ...   61.0    326  3.89  3.84  2.31\n",
              "2           3   0.23     Good     E     VS1  ...   65.0    327  4.05  4.07  2.31\n",
              "3           4   0.29  Premium     I     VS2  ...   58.0    334  4.20  4.23  2.63\n",
              "4           5   0.31     Good     J     SI2  ...   58.0    335  4.34  4.35  2.75\n",
              "\n",
              "[5 rows x 11 columns]"
            ]
          },
          "metadata": {
            "tags": []
          },
          "execution_count": 24
        }
      ]
    },
    {
      "cell_type": "markdown",
      "metadata": {
        "id": "2SEZPfhaRIvr",
        "colab_type": "text"
      },
      "source": [
        "The dataframe contains the following attributes :<br>\n",
        "<br>\n",
        "price : price in US dollars (\\$326--\\$18,823)\n",
        "\n",
        "carat : weight in carat (0.2--5.01)\n",
        "\n",
        "cut : quality of the cut (Fair, Good, Very Good, Premium, Ideal)\n",
        "\n",
        "color : diamond colour, from J (worst) to D (best)\n",
        "\n",
        "clarity : the measurement of how clear the diamond is : I1 (worst), SI2, SI1, VS2, VS1, VVS2, VVS1, IF (best)\n",
        "\n",
        "x : length in mm (0--10.74)\n",
        "\n",
        "y : width in mm (0--58.9)\n",
        "\n",
        "z : depth in mm (0--31.8)\n",
        "\n",
        "depth : the total depth percentage = z / mean(x, y) = 2 * z / (x + y) (43--79)\n",
        "\n",
        "table : width of top of diamond relative to widest point (43--95)"
      ]
    },
    {
      "cell_type": "code",
      "metadata": {
        "id": "JfEPdOAvGIT9",
        "colab_type": "code",
        "outputId": "f485ada2-1172-44d2-ec48-8d6bb1470b6f",
        "colab": {
          "base_uri": "https://localhost:8080/",
          "height": 289
        }
      },
      "source": [
        "#  a overview \n",
        "\n",
        "df.info()"
      ],
      "execution_count": 0,
      "outputs": [
        {
          "output_type": "stream",
          "text": [
            "<class 'pandas.core.frame.DataFrame'>\n",
            "RangeIndex: 53940 entries, 0 to 53939\n",
            "Data columns (total 11 columns):\n",
            "Unnamed: 0    53940 non-null int64\n",
            "carat         53940 non-null float64\n",
            "cut           53940 non-null object\n",
            "color         53940 non-null object\n",
            "clarity       53940 non-null object\n",
            "depth         53940 non-null float64\n",
            "table         53940 non-null float64\n",
            "price         53940 non-null int64\n",
            "x             53940 non-null float64\n",
            "y             53940 non-null float64\n",
            "z             53940 non-null float64\n",
            "dtypes: float64(6), int64(2), object(3)\n",
            "memory usage: 4.5+ MB\n"
          ],
          "name": "stdout"
        }
      ]
    },
    {
      "cell_type": "markdown",
      "metadata": {
        "id": "wfgpIr7DGOhr",
        "colab_type": "text"
      },
      "source": [
        "And fortunately, there is no null values in the dateset."
      ]
    },
    {
      "cell_type": "markdown",
      "metadata": {
        "id": "GdJVy6G_HEHK",
        "colab_type": "text"
      },
      "source": [
        "From now on, we need to decide which attributes are more 'meaningful' in this project. According to the official diamond grading standard (GIA), the 4 most important factors (4C) are: Carat weight, Cut, Color and Clarity. <br>\n",
        "Therefore, we will keep these attributes and remove other columns from dataframe. "
      ]
    },
    {
      "cell_type": "code",
      "metadata": {
        "colab_type": "code",
        "id": "K53fxJxr_6Hu",
        "colab": {}
      },
      "source": [
        "df = df.drop(['Unnamed: 0','depth','table','x','y','z'],axis=1)"
      ],
      "execution_count": 0,
      "outputs": []
    },
    {
      "cell_type": "markdown",
      "metadata": {
        "id": "0T26LicHNoT3",
        "colab_type": "text"
      },
      "source": [
        "In addtion, we can easily convert the catagorical data to ***some numerical values*** since these data are 'scales' of a diamond. According to diamond GIA, we use the whole grading scale."
      ]
    },
    {
      "cell_type": "code",
      "metadata": {
        "colab_type": "code",
        "id": "E9zJ6JXF_6D3",
        "colab": {}
      },
      "source": [
        "grade = {'cut': ['Fair','Good','Very Good','Premium','Ideal'],\n",
        "         'color': ['J','I','H','G','F','E','D'],\n",
        "         'clarity': ['I3','I2','I1','SI2','SI1','VS2','VS1','VVS2','VVS1','IF','FL']}\n",
        "         # ordered from worst to best\n",
        "\n",
        "for key, scale in grade.items():\n",
        "   for index in range(len(scale)):\n",
        "      df[key] = df[key].map(lambda x: index if x == grade[key][index] else x)"
      ],
      "execution_count": 0,
      "outputs": []
    },
    {
      "cell_type": "markdown",
      "metadata": {
        "id": "IS93LcPNciUt",
        "colab_type": "text"
      },
      "source": [
        "Ofcourse, as we mention we also need to covert the price in US dollars into the low, medium and high grade. Before that, we need to roughly take a overview of price value distrubution."
      ]
    },
    {
      "cell_type": "code",
      "metadata": {
        "id": "AMX359agoWzG",
        "colab_type": "code",
        "outputId": "0526a128-6683-486d-95c8-68f8a3dd669e",
        "colab": {
          "base_uri": "https://localhost:8080/",
          "height": 297
        }
      },
      "source": [
        "df.describe()"
      ],
      "execution_count": 0,
      "outputs": [
        {
          "output_type": "execute_result",
          "data": {
            "text/html": [
              "<div>\n",
              "<style scoped>\n",
              "    .dataframe tbody tr th:only-of-type {\n",
              "        vertical-align: middle;\n",
              "    }\n",
              "\n",
              "    .dataframe tbody tr th {\n",
              "        vertical-align: top;\n",
              "    }\n",
              "\n",
              "    .dataframe thead th {\n",
              "        text-align: right;\n",
              "    }\n",
              "</style>\n",
              "<table border=\"1\" class=\"dataframe\">\n",
              "  <thead>\n",
              "    <tr style=\"text-align: right;\">\n",
              "      <th></th>\n",
              "      <th>carat</th>\n",
              "      <th>cut</th>\n",
              "      <th>color</th>\n",
              "      <th>clarity</th>\n",
              "      <th>price</th>\n",
              "    </tr>\n",
              "  </thead>\n",
              "  <tbody>\n",
              "    <tr>\n",
              "      <th>count</th>\n",
              "      <td>53940.000000</td>\n",
              "      <td>53940.000000</td>\n",
              "      <td>53940.000000</td>\n",
              "      <td>53940.000000</td>\n",
              "      <td>53940.000000</td>\n",
              "    </tr>\n",
              "    <tr>\n",
              "      <th>mean</th>\n",
              "      <td>0.797940</td>\n",
              "      <td>2.904097</td>\n",
              "      <td>3.405803</td>\n",
              "      <td>5.051020</td>\n",
              "      <td>3932.799722</td>\n",
              "    </tr>\n",
              "    <tr>\n",
              "      <th>std</th>\n",
              "      <td>0.474011</td>\n",
              "      <td>1.116600</td>\n",
              "      <td>1.701105</td>\n",
              "      <td>1.647136</td>\n",
              "      <td>3989.439738</td>\n",
              "    </tr>\n",
              "    <tr>\n",
              "      <th>min</th>\n",
              "      <td>0.200000</td>\n",
              "      <td>0.000000</td>\n",
              "      <td>0.000000</td>\n",
              "      <td>2.000000</td>\n",
              "      <td>326.000000</td>\n",
              "    </tr>\n",
              "    <tr>\n",
              "      <th>25%</th>\n",
              "      <td>0.400000</td>\n",
              "      <td>2.000000</td>\n",
              "      <td>2.000000</td>\n",
              "      <td>4.000000</td>\n",
              "      <td>950.000000</td>\n",
              "    </tr>\n",
              "    <tr>\n",
              "      <th>50%</th>\n",
              "      <td>0.700000</td>\n",
              "      <td>3.000000</td>\n",
              "      <td>3.000000</td>\n",
              "      <td>5.000000</td>\n",
              "      <td>2401.000000</td>\n",
              "    </tr>\n",
              "    <tr>\n",
              "      <th>75%</th>\n",
              "      <td>1.040000</td>\n",
              "      <td>4.000000</td>\n",
              "      <td>5.000000</td>\n",
              "      <td>6.000000</td>\n",
              "      <td>5324.250000</td>\n",
              "    </tr>\n",
              "    <tr>\n",
              "      <th>max</th>\n",
              "      <td>5.010000</td>\n",
              "      <td>4.000000</td>\n",
              "      <td>6.000000</td>\n",
              "      <td>9.000000</td>\n",
              "      <td>18823.000000</td>\n",
              "    </tr>\n",
              "  </tbody>\n",
              "</table>\n",
              "</div>"
            ],
            "text/plain": [
              "              carat           cut         color       clarity         price\n",
              "count  53940.000000  53940.000000  53940.000000  53940.000000  53940.000000\n",
              "mean       0.797940      2.904097      3.405803      5.051020   3932.799722\n",
              "std        0.474011      1.116600      1.701105      1.647136   3989.439738\n",
              "min        0.200000      0.000000      0.000000      2.000000    326.000000\n",
              "25%        0.400000      2.000000      2.000000      4.000000    950.000000\n",
              "50%        0.700000      3.000000      3.000000      5.000000   2401.000000\n",
              "75%        1.040000      4.000000      5.000000      6.000000   5324.250000\n",
              "max        5.010000      4.000000      6.000000      9.000000  18823.000000"
            ]
          },
          "metadata": {
            "tags": []
          },
          "execution_count": 27
        }
      ]
    },
    {
      "cell_type": "markdown",
      "metadata": {
        "id": "p01geLaDpTTT",
        "colab_type": "text"
      },
      "source": [
        "In this case, we take value of 1200 and 4000 as the price class border value."
      ]
    },
    {
      "cell_type": "code",
      "metadata": {
        "id": "3nqymLh_dCfS",
        "colab_type": "code",
        "colab": {}
      },
      "source": [
        "df['price'] = df['price'].map(lambda x: 'low' if x<1200 else \n",
        "                              ('high' if x>4000 else 'medium')) "
      ],
      "execution_count": 0,
      "outputs": []
    },
    {
      "cell_type": "markdown",
      "metadata": {
        "id": "HDuHVNmNdGeC",
        "colab_type": "text"
      },
      "source": [
        "Now, let's finally check the data that only used for this program. "
      ]
    },
    {
      "cell_type": "code",
      "metadata": {
        "id": "zYAwSrigdfpS",
        "colab_type": "code",
        "outputId": "7dfaee4d-31c5-494c-8240-92f5d4a677e1",
        "colab": {
          "base_uri": "https://localhost:8080/",
          "height": 204
        }
      },
      "source": [
        "df.head()"
      ],
      "execution_count": 0,
      "outputs": [
        {
          "output_type": "execute_result",
          "data": {
            "text/html": [
              "<div>\n",
              "<style scoped>\n",
              "    .dataframe tbody tr th:only-of-type {\n",
              "        vertical-align: middle;\n",
              "    }\n",
              "\n",
              "    .dataframe tbody tr th {\n",
              "        vertical-align: top;\n",
              "    }\n",
              "\n",
              "    .dataframe thead th {\n",
              "        text-align: right;\n",
              "    }\n",
              "</style>\n",
              "<table border=\"1\" class=\"dataframe\">\n",
              "  <thead>\n",
              "    <tr style=\"text-align: right;\">\n",
              "      <th></th>\n",
              "      <th>carat</th>\n",
              "      <th>cut</th>\n",
              "      <th>color</th>\n",
              "      <th>clarity</th>\n",
              "      <th>price</th>\n",
              "    </tr>\n",
              "  </thead>\n",
              "  <tbody>\n",
              "    <tr>\n",
              "      <th>0</th>\n",
              "      <td>0.23</td>\n",
              "      <td>4</td>\n",
              "      <td>5</td>\n",
              "      <td>3</td>\n",
              "      <td>low</td>\n",
              "    </tr>\n",
              "    <tr>\n",
              "      <th>1</th>\n",
              "      <td>0.21</td>\n",
              "      <td>3</td>\n",
              "      <td>5</td>\n",
              "      <td>4</td>\n",
              "      <td>low</td>\n",
              "    </tr>\n",
              "    <tr>\n",
              "      <th>2</th>\n",
              "      <td>0.23</td>\n",
              "      <td>1</td>\n",
              "      <td>5</td>\n",
              "      <td>6</td>\n",
              "      <td>low</td>\n",
              "    </tr>\n",
              "    <tr>\n",
              "      <th>3</th>\n",
              "      <td>0.29</td>\n",
              "      <td>3</td>\n",
              "      <td>1</td>\n",
              "      <td>5</td>\n",
              "      <td>low</td>\n",
              "    </tr>\n",
              "    <tr>\n",
              "      <th>4</th>\n",
              "      <td>0.31</td>\n",
              "      <td>1</td>\n",
              "      <td>0</td>\n",
              "      <td>3</td>\n",
              "      <td>low</td>\n",
              "    </tr>\n",
              "  </tbody>\n",
              "</table>\n",
              "</div>"
            ],
            "text/plain": [
              "   carat  cut  color  clarity price\n",
              "0   0.23    4      5        3   low\n",
              "1   0.21    3      5        4   low\n",
              "2   0.23    1      5        6   low\n",
              "3   0.29    3      1        5   low\n",
              "4   0.31    1      0        3   low"
            ]
          },
          "metadata": {
            "tags": []
          },
          "execution_count": 23
        }
      ]
    },
    {
      "cell_type": "markdown",
      "metadata": {
        "id": "9maE5XEfd2s6",
        "colab_type": "text"
      },
      "source": [
        "Moreover, we have to randomly decide the indices of Train and Test dataframe, we will get 200 samples for each."
      ]
    },
    {
      "cell_type": "code",
      "metadata": {
        "colab_type": "code",
        "id": "r7Tg5hBy_5uj",
        "colab": {}
      },
      "source": [
        "random.seed(1)\n",
        "\n",
        "indices = df.index.tolist() \n",
        "test_indices = random.sample(population=indices, k=200)\n",
        "    \n",
        "test_df = df.loc[test_indices]\n",
        "train_df = df.drop(test_indices)"
      ],
      "execution_count": 0,
      "outputs": []
    },
    {
      "cell_type": "markdown",
      "metadata": {
        "id": "AMolbWpuiEkz",
        "colab_type": "text"
      },
      "source": [
        "Finally, we will convert train dataframe to numpy 2D array for more convenient processing and assign it to variable 'data'"
      ]
    },
    {
      "cell_type": "code",
      "metadata": {
        "id": "De875Z7gHGeo",
        "colab_type": "code",
        "colab": {}
      },
      "source": [
        "data = train_df.values  "
      ],
      "execution_count": 0,
      "outputs": []
    },
    {
      "cell_type": "markdown",
      "metadata": {
        "id": "23QJQVaX0R1c",
        "colab_type": "text"
      },
      "source": [
        "Note that, we should have these variables that we would use a lot in our program :<br>\n",
        "- df\n",
        "- test_df\n",
        "- train_df\n",
        "- data"
      ]
    },
    {
      "cell_type": "markdown",
      "metadata": {
        "id": "iVTbTn-JK4xW",
        "colab_type": "text"
      },
      "source": [
        "### Modelling"
      ]
    },
    {
      "cell_type": "markdown",
      "metadata": {
        "id": "UYM0DFJn61t0",
        "colab_type": "text"
      },
      "source": [
        " ![flowchart](https://raw.githubusercontent.com/STKKKKK/UTS_ML_2019_ID12431868/master/31005_ML_A2/A2_flowChart.png)"
      ]
    },
    {
      "cell_type": "markdown",
      "metadata": {
        "id": "rCnnexOtL1ZA",
        "colab_type": "text"
      },
      "source": [
        "According to the flow chart, it is shown that a Loop of data splitting need to be achieved. Therefore, we will choose a decision tree (CART) to handle this out. Ofcourse, the ID3 decision tree and C4.5 decison tree may also be alternative approach.  <br>\n",
        "The key concept of CART decision tree is to indentify the split based on Gini-Score, which is value that descibe the un-purity of a data set. The lower Gini-Score of a data set, the more likely of the data is in same class.<br>\n",
        "In this case, we need to find out the best split among all potential splits by calculating the lowest Gini-gain of these splits.<br>\n",
        "As we also found that the term ***'split' or 'splitter'*** is mentioned a lot. It is a good way to define it into an abstract object !"
      ]
    },
    {
      "cell_type": "markdown",
      "metadata": {
        "colab_type": "text",
        "id": "oEJZDGl5sOlZ"
      },
      "source": [
        "## Methodology"
      ]
    },
    {
      "cell_type": "markdown",
      "metadata": {
        "id": "71jYkuLN__I5",
        "colab_type": "text"
      },
      "source": [
        "### a SPLIT object"
      ]
    },
    {
      "cell_type": "code",
      "metadata": {
        "colab_type": "code",
        "id": "KNep52rNDQDZ",
        "colab": {}
      },
      "source": [
        "class Split():\n",
        "\n",
        "    def __init__(self, data, column, value):\n",
        "        \"\"\"\n",
        "        column: SPLIT attribute (column index of data)\n",
        "        value: SPLIT value\n",
        "        data_below/above: data set which sperated by this SPLIT\n",
        "        \"\"\"\n",
        "        self.column = column\n",
        "        self.value = value\n",
        "        self.data_below = data[data[:, self.column] < value]\n",
        "        self.data_above = data[data[:, self.column] >= value] \n",
        "        \n",
        "        \n",
        "    def formatt(self):\n",
        "        \"\"\"\n",
        "        Represent the SPLIT object in a more intuitive way\n",
        "        \"\"\"   \n",
        "        return \"{} < {}\".format(df.columns[self.column], self.value)\n",
        "     \n",
        "\n",
        "    def gini_gain(self):\n",
        "        \"\"\"\n",
        "        Calculate the Gini-gain of the SPLIT\n",
        "          consider this value uses both sides data sets' Gini-Score\n",
        "        \"\"\"\n",
        "        def gini(data):\n",
        "            \"\"\"\n",
        "            Calculate the Gini-Score of a data set\n",
        "            \"\"\"\n",
        "                # get the count of unique price grade\n",
        "            _, counts = np.unique(data[:, -1], return_counts=True)\n",
        "            p = counts / counts.sum() \n",
        "            \n",
        "                # Formula of Gini-Score:\n",
        "            Gini = 1 - sum(p ** 2)\n",
        "            \n",
        "            return Gini\n",
        "\n",
        "        n_data = len(self.data_below) + len(self.data_above)\n",
        "        p_below = len(self.data_below) / n_data\n",
        "        p_above = len(self.data_above) / n_data\n",
        "        \n",
        "            # Formula of Gini-gain:\n",
        "        Gini_gain = p_below*gini(self.data_below)+ p_above*gini(self.data_above)\n",
        "        \n",
        "        return Gini_gain"
      ],
      "execution_count": 0,
      "outputs": []
    },
    {
      "cell_type": "code",
      "metadata": {
        "colab_type": "code",
        "id": "F_IKSh189Ptb",
        "outputId": "5752ae2b-5b1c-4d08-fd10-ec18e9fe28db",
        "colab": {
          "base_uri": "https://localhost:8080/",
          "height": 34
        }
      },
      "source": [
        "# small test\n",
        "\n",
        "Split(data, 3, 1.8).gini_gain()"
      ],
      "execution_count": 0,
      "outputs": [
        {
          "output_type": "execute_result",
          "data": {
            "text/plain": [
              "0.6655809650983266"
            ]
          },
          "metadata": {
            "tags": []
          },
          "execution_count": 32
        }
      ]
    },
    {
      "cell_type": "markdown",
      "metadata": {
        "colab_type": "text",
        "id": "9WX87RGeWgXY"
      },
      "source": [
        "### Get Best Split "
      ]
    },
    {
      "cell_type": "code",
      "metadata": {
        "colab_type": "code",
        "id": "dcbxXwzb8lLF",
        "colab": {}
      },
      "source": [
        "def get_best_split(data):\n",
        "    \"\"\"\n",
        "    1. Initially, we need to get all the potential splits of the data set. \n",
        "    This can be done by finding ALL the Different data points in the\n",
        "    data set, and the Split will take the avarage value of each two points\n",
        "    in order to let both points settled away from the Split as possible.    \n",
        "    \n",
        "    2. After that, we will find the best Split based on its gini_gain.\n",
        "    \"\"\"\n",
        "    potential_splits = []\n",
        "    _, n_columns = data.shape\n",
        "\n",
        "    for column in range(n_columns -1):   # we don't need the price column \n",
        "        unique_values = np.unique(data[:, column])\n",
        "\n",
        "        for index in range(len(unique_values)):\n",
        "                # The first value won't be processed \n",
        "                # because it doesn't have a previous value                          \n",
        "            if index > 0:   \n",
        "                current = unique_values[index]\n",
        "                previous = unique_values[index -1]\n",
        "                split = Split(data, column, (current + previous)/2)\n",
        "                potential_splits.append(split)\n",
        "\n",
        "                \n",
        "       # iterate from all potential splits \n",
        "       # a gini_gain value will never greater than 1, so we can start from here\n",
        "    max_gini = 1\n",
        "    \n",
        "    for split in potential_splits:  \n",
        "          if split.gini_gain() <= max_gini:\n",
        "            max_gini = split.gini_gain()\n",
        "            best_split = split\n",
        "                     \n",
        "    return best_split"
      ],
      "execution_count": 0,
      "outputs": []
    },
    {
      "cell_type": "code",
      "metadata": {
        "colab_type": "code",
        "id": "Hfg6OUVW8lIg",
        "outputId": "49c9dfd8-b4da-419d-fca6-42029aefc010",
        "colab": {
          "base_uri": "https://localhost:8080/",
          "height": 34
        }
      },
      "source": [
        "# small test: this is the first split to data\n",
        "\n",
        "sp = get_best_split(data)\n",
        "sp.formatt()"
      ],
      "execution_count": 0,
      "outputs": [
        {
          "output_type": "execute_result",
          "data": {
            "text/plain": [
              "'carat < 0.495'"
            ]
          },
          "metadata": {
            "tags": []
          },
          "execution_count": 30
        }
      ]
    },
    {
      "cell_type": "markdown",
      "metadata": {
        "colab_type": "text",
        "id": "2qCTkllujMmM"
      },
      "source": [
        "### The Decision Tree"
      ]
    },
    {
      "cell_type": "code",
      "metadata": {
        "id": "5cAvaoNYHGe_",
        "colab_type": "code",
        "colab": {}
      },
      "source": [
        "def train(data, max_depth, depth = 0):\n",
        "    \"\"\"\n",
        "    This function aimed to build the CART decision tree by training the data.\n",
        "    This is a Recursive Function!\n",
        "    max_depth: can be set to define the maximum depth of tree\n",
        "    \n",
        "    The tree will be a nested dict object, consider it is built up by sub trees\n",
        "     with three nodes: {root: [true_leaf, false_leaf]}    \n",
        "    \"\"\" \n",
        "    price_column = data[:, -1]\n",
        "    unique_classes, count = np.unique(price_column, return_counts=True)\n",
        "       \n",
        "        # if price grade unique, or the reach the set max_depth\n",
        "    if(len(unique_classes) == 1) or (depth == max_depth): \n",
        "           # classify\n",
        "        end_node = unique_classes[count.argmax()]\n",
        "        \n",
        "        return end_node\n",
        "       \n",
        "    else:\n",
        "        depth += 1    # count until reach the max_depth     \n",
        "        \n",
        "        best_split = get_best_split(data)\n",
        "        \n",
        "           # buliding tree\n",
        "        root = best_split.formatt()       \n",
        "        sub_tree = {root: []}       \n",
        "        true_leaf = train(best_split.data_below, max_depth, depth)\n",
        "        false_leaf = train(best_split.data_above, max_depth, depth)\n",
        "          \n",
        "           # make sure that same leaf won't represent at same time\n",
        "        if true_leaf != false_leaf:\n",
        "            sub_tree[root].append(true_leaf)\n",
        "            sub_tree[root].append(false_leaf)\n",
        "        else: sub_tree = true_leaf\n",
        "        \n",
        "        return sub_tree"
      ],
      "execution_count": 0,
      "outputs": []
    },
    {
      "cell_type": "code",
      "metadata": {
        "id": "Kd0UFvUIHGfH",
        "colab_type": "code",
        "colab": {}
      },
      "source": [
        "def test(data, tree):\n",
        "    \"\"\"\n",
        "    The function aimed to test the data by using a CART decision tree.\n",
        "    This is a Recursive Function!\n",
        "    \"\"\" \n",
        "    root = list(tree.keys())[0]    # get the root node of sub_tree\n",
        "    column, less_than, value = root.split()\n",
        "    \n",
        "    if data[column] < float(value):   # 'value' needs to convert from str\n",
        "        leaf = tree[root][0]\n",
        "    else: leaf = tree[root][1]\n",
        "        \n",
        "    if type(leaf) == dict:    # still haven't reach the end node of whole tree\n",
        "        return test(data, leaf)\n",
        "    else: return leaf     # finally reach the end node"
      ],
      "execution_count": 0,
      "outputs": []
    },
    {
      "cell_type": "markdown",
      "metadata": {
        "id": "QKX0y8s1yHOE",
        "colab_type": "text"
      },
      "source": [
        "## Evaluation"
      ]
    },
    {
      "cell_type": "markdown",
      "metadata": {
        "id": "yuPgF2-XT1m5",
        "colab_type": "text"
      },
      "source": [
        "### Performance"
      ]
    },
    {
      "cell_type": "markdown",
      "metadata": {
        "id": "f65m24wm5K1e",
        "colab_type": "text"
      },
      "source": [
        "**First, let's do a simple test to check if the tree testing function works:** "
      ]
    },
    {
      "cell_type": "code",
      "metadata": {
        "colab_type": "code",
        "id": "uS0lLK9l8kyu",
        "outputId": "9c965bcd-ba02-43ce-e9d2-b9ce8d113198",
        "colab": {
          "base_uri": "https://localhost:8080/",
          "height": 170
        }
      },
      "source": [
        "print(test_df.iloc[14],'\\n')\n",
        "print(\"The price is '{}'\".format(test(test_df.iloc[14], tree)))"
      ],
      "execution_count": 0,
      "outputs": [
        {
          "output_type": "stream",
          "text": [
            "carat          1.03\n",
            "cut               4\n",
            "color             5\n",
            "clarity           4\n",
            "price          high\n",
            "test_result    high\n",
            "Name: 13759, dtype: object \n",
            "\n",
            "The price is 'high'\n"
          ],
          "name": "stdout"
        }
      ]
    },
    {
      "cell_type": "markdown",
      "metadata": {
        "id": "GtItqeWFXnmR",
        "colab_type": "text"
      },
      "source": [
        "The test seems work and we can find out that the 14th test (out of 200 samples) is a correct one. \n",
        "<br>\n",
        "<br>"
      ]
    },
    {
      "cell_type": "markdown",
      "metadata": {
        "id": "PTJ9ejJz7vlk",
        "colab_type": "text"
      },
      "source": [
        "\n",
        "\n",
        "**Now, we can Train the data and Create a decision tree with depth of 5.**"
      ]
    },
    {
      "cell_type": "code",
      "metadata": {
        "colab_type": "code",
        "id": "JwH5i7ez8k_I",
        "outputId": "917ee40d-19e2-486f-dbac-2c0683b1f9f5",
        "colab": {
          "base_uri": "https://localhost:8080/",
          "height": 377
        }
      },
      "source": [
        "tree = train(data, 5)\n",
        "\n",
        "pprint(tree)  # use 'pretty-print'"
      ],
      "execution_count": 0,
      "outputs": [
        {
          "output_type": "stream",
          "text": [
            "{'carat < 0.495': [{'carat < 0.375': [{'clarity < 8.5': [{'cut < 0.5': [{'clarity < 2.5': ['medium',\n",
            "                                                                                           'low']},\n",
            "                                                                        'low']},\n",
            "                                                         {'color < 5.5': ['low',\n",
            "                                                                          {'carat < 0.28500000000000003': ['low',\n",
            "                                                                                                           'medium']}]}]},\n",
            "                                      {'clarity < 7.5': [{'carat < 0.455': ['low',\n",
            "                                                                            {'clarity < 4.5': ['low',\n",
            "                                                                                               'medium']}]},\n",
            "                                                         {'color < 2.5': ['low',\n",
            "                                                                          'medium']}]}]},\n",
            "                   {'carat < 0.985': [{'carat < 0.895': [{'clarity < 3.5': [{'carat < 0.555': ['low',\n",
            "                                                                                               'medium']},\n",
            "                                                                            'medium']},\n",
            "                                                         {'clarity < 3.5': ['medium',\n",
            "                                                                            {'color < 1.5': ['medium',\n",
            "                                                                                             'high']}]}]},\n",
            "                                      {'clarity < 2.5': [{'carat < 1.31': ['medium',\n",
            "                                                                           'high']},\n",
            "                                                         'high']}]}]}\n"
          ],
          "name": "stdout"
        }
      ]
    },
    {
      "cell_type": "markdown",
      "metadata": {
        "id": "5O-Qks6CpoOw",
        "colab_type": "text"
      },
      "source": [
        "**After that, we will apply the test samples to do the test. And finally, we can calculate the accuracy.**"
      ]
    },
    {
      "cell_type": "code",
      "metadata": {
        "id": "mGhYKXgYrL_R",
        "colab_type": "code",
        "colab": {}
      },
      "source": [
        "def accuracy(data, tree):\n",
        "  \n",
        "     # create a new column of test results\n",
        "  test_df['test_result'] = test_df.apply(test, axis=1, args=(tree,))\n",
        "    \n",
        "     # calculate the mean of boolean values of correctness\n",
        "     #  (1 if correct, 0 if wrong) , we get the Accuracy of the 'tree'\n",
        "  accuracy = (test_df.test_result == test_df.price).mean()\n",
        "  \n",
        "  print(test_df.head())\n",
        "  print('\\n','\\n','The Accuracy of our CART decision tree is {}'.format(accuracy))\n",
        "  "
      ],
      "execution_count": 0,
      "outputs": []
    },
    {
      "cell_type": "code",
      "metadata": {
        "id": "pZ0BRKI5tbem",
        "colab_type": "code",
        "outputId": "72f3c264-56aa-4417-fa36-ff7a2c075d79",
        "colab": {
          "base_uri": "https://localhost:8080/",
          "height": 170
        }
      },
      "source": [
        "accuracy(test_df, tree)"
      ],
      "execution_count": 0,
      "outputs": [
        {
          "output_type": "stream",
          "text": [
            "       carat  cut  color  clarity   price test_result\n",
            "8805    1.01    2      1        4    high        high\n",
            "37303   0.70    0      3        2     low      medium\n",
            "52577   0.71    4      3        5  medium      medium\n",
            "50054   0.74    3      2        4  medium      medium\n",
            "4135    0.81    2      3        6  medium      medium\n",
            "\n",
            " \n",
            " The accuracy of our CART decision tree is 0.955\n"
          ],
          "name": "stdout"
        }
      ]
    },
    {
      "cell_type": "markdown",
      "metadata": {
        "id": "F62cBAEtt6Aw",
        "colab_type": "text"
      },
      "source": [
        "<br>\n",
        "<br>\n",
        "\n",
        "**Let's Train and Test again with a tree of depth of 6.**"
      ]
    },
    {
      "cell_type": "code",
      "metadata": {
        "id": "dOE7fDWSu7Qp",
        "colab_type": "code",
        "outputId": "db7a50b2-d3aa-488d-dc88-71c50d64e9a9",
        "colab": {
          "base_uri": "https://localhost:8080/",
          "height": 170
        }
      },
      "source": [
        "tree_depth_6 = train(data, 6)\n",
        "accuracy(test_df, tree_depth_6)"
      ],
      "execution_count": 0,
      "outputs": [
        {
          "output_type": "stream",
          "text": [
            "       carat  cut  color  clarity   price test_result\n",
            "8805    1.01    2      1        4    high        high\n",
            "37303   0.70    0      3        2     low         low\n",
            "52577   0.71    4      3        5  medium      medium\n",
            "50054   0.74    3      2        4  medium      medium\n",
            "4135    0.81    2      3        6  medium      medium\n",
            "\n",
            " \n",
            " The accuracy of our CART decision tree is 0.96\n"
          ],
          "name": "stdout"
        }
      ]
    },
    {
      "cell_type": "markdown",
      "metadata": {
        "id": "Bp1rzd-zDkl1",
        "colab_type": "text"
      },
      "source": [
        "### Effiency"
      ]
    },
    {
      "cell_type": "code",
      "metadata": {
        "colab_type": "code",
        "id": "kjL0r7eVcIRY",
        "outputId": "0fd12b53-d56b-48ad-c281-be3c752316d4",
        "colab": {
          "base_uri": "https://localhost:8080/",
          "height": 34
        }
      },
      "source": [
        "%timeit tree_depth_of_4 = train(data, 4)"
      ],
      "execution_count": 0,
      "outputs": [
        {
          "output_type": "stream",
          "text": [
            "1 loop, best of 3: 19.1 s per loop\n"
          ],
          "name": "stdout"
        }
      ]
    },
    {
      "cell_type": "code",
      "metadata": {
        "id": "w-NR62ORloTx",
        "colab_type": "code",
        "outputId": "f0039684-e70e-47f7-a49f-ec96da7f3d55",
        "colab": {
          "base_uri": "https://localhost:8080/",
          "height": 34
        }
      },
      "source": [
        "%timeit tree_depth_of_5 = train(data, 5)"
      ],
      "execution_count": 0,
      "outputs": [
        {
          "output_type": "stream",
          "text": [
            "1 loop, best of 3: 21.1 s per loop\n"
          ],
          "name": "stdout"
        }
      ]
    },
    {
      "cell_type": "code",
      "metadata": {
        "colab_type": "code",
        "id": "q7WjIYmncION",
        "outputId": "db98cb89-1cf3-4cd6-f9d7-a05f6fea7c36",
        "colab": {
          "base_uri": "https://localhost:8080/",
          "height": 34
        }
      },
      "source": [
        "%timeit tree_depth_of_6 = train(data, 6)"
      ],
      "execution_count": 0,
      "outputs": [
        {
          "output_type": "stream",
          "text": [
            "1 loop, best of 3: 22.7 s per loop\n"
          ],
          "name": "stdout"
        }
      ]
    },
    {
      "cell_type": "markdown",
      "metadata": {
        "id": "CGVWN8H-n5J7",
        "colab_type": "text"
      },
      "source": [
        "The overall time effiency is not as satisfied as accuracy, that's why we always need to limit the depth of the tree according to different situations. (bigger/deeper the tree, higher the accuracy but lower the effiency)"
      ]
    },
    {
      "cell_type": "markdown",
      "metadata": {
        "id": "P6SGpSJAqSJR",
        "colab_type": "text"
      },
      "source": [
        "### Comparative Study"
      ]
    },
    {
      "cell_type": "markdown",
      "metadata": {
        "id": "qc2UEyzPKVrV",
        "colab_type": "text"
      },
      "source": [
        "The main concept of CART algorithm is Gini-gain. In fact, there are two others types of widely-used decision tree that use the different concept and have its own limitation: \n",
        "- ID3 decision tree is a greedy algorithm, decision making is based on information gain, by finding the split of the lowest overall entropy(a value descibe chaostic of information), which means the highest information gain.\n",
        " However ID3 decision tree can not deal with continous data.\n",
        "- C4.5 decision tree is an advanced version of ID3, instead of finding information gain, it turned to find out the information gain ratio.\n",
        " C4.5 algorithm support both continous data and discrete data just like CART, but it still tend to fit discrete data better.\n",
        "- CART is what we are programming in this project. The most significant limitation of CART is binary splis, this may lead to the data over-fitting issue."
      ]
    },
    {
      "cell_type": "markdown",
      "metadata": {
        "id": "I-G44FRdDwjQ",
        "colab_type": "text"
      },
      "source": [
        "We can also use the sklearn library to implement all decision tree algorithms. Note that we can also use the iris data to do the training and testing."
      ]
    },
    {
      "cell_type": "code",
      "metadata": {
        "colab_type": "code",
        "id": "3wm3-RBTG4tP",
        "colab": {}
      },
      "source": [
        "from sklearn.datasets import load_iris\n",
        "from sklearn import tree\n",
        "import graphviz\n",
        "\n",
        "iris = load_iris()\n",
        "X = iris.data\n",
        "y = iris.target\n",
        "clf = tree.DecisionTreeClassifier()\n",
        "clf = clf.fit(X,y)\n",
        "\n",
        " # dot data graph\n",
        "data = tree.export_graphviz(clf, out_file=None,\n",
        "                                 feature_names=iris.feature_names,\n",
        "                                 class_names=iris.target_names,\n",
        "                                 filled=True,\n",
        "                                 rounded=True,\n",
        "                                 special_characters=True)\n",
        "\n",
        "graph = graphviz.Source(data)\n",
        "graph.view()"
      ],
      "execution_count": 0,
      "outputs": []
    },
    {
      "cell_type": "markdown",
      "metadata": {
        "id": "tUM0Gt5yxszv",
        "colab_type": "text"
      },
      "source": [
        "## Conclusion"
      ]
    },
    {
      "cell_type": "markdown",
      "metadata": {
        "id": "ZTLUcvl3xzF0",
        "colab_type": "text"
      },
      "source": [
        "To conclude, within the limitation of time and knowledge, we learned how to overcome the difficulties during developing and felt very accomplished when the model built successfully and could achieve the goal of the project, it finds the price rank of a diamond mainly influenced by analysing the carat weight, cut, colour and clarity of a diamond. The accuracy is acceptable enough (about 0.95 when the tree depth is 5). Ofcourse, we can also figure how to build a regression CART and there are several improvements of current CART algorithm, such as how to handle with data over-fitting, as these require much deeper understanding of tree model structuring and the whole machine learning field.   "
      ]
    },
    {
      "cell_type": "markdown",
      "metadata": {
        "id": "Hj7xvAhFx0Dy",
        "colab_type": "text"
      },
      "source": [
        "## Ethical"
      ]
    },
    {
      "cell_type": "markdown",
      "metadata": {
        "id": "6Qsf-ZPpx2Yd",
        "colab_type": "text"
      },
      "source": [
        "Ethical considerations are inevitable as computers are playing more and more important roles in humans’ life. There are different positions on ethics with the machine. Some might argue that machine ethics exists because humans are machines and humans have ethics. Others could argue that machine ethics doesn’t exist because ethics is simply emotional expression and machines can’t have emotions (Moor, 2006). Although the discussion of this may quickly bring us into philosophical issues, we cannot ignore it. we can’t—and shouldn’t—avoid consideration of machine ethics in today’s technological world, said by Moor, (2006). According to Kantian duty-based approach, it is not things that affect people, but people that influence things. It is our people who are constructing the real world. In the process of knowing things, people are more important than things themselves. People are morally autonomous. Although human behaviour is restricted by objective causality, people become human beings because they have moral freedom, can transcend cause and effect, and can be responsible for their actions. Therefore, it is important to determine the correct ethics, and ethics must have supreme authority. Ethics measure whether the action itself is in line with ethical standards, without it as a result of happiness. Considering that our project is the model to analyse the determining factors of the price of a diamond, it is a guide for the customers who are not professional in this field. It could help them to identify whether the diamonds they buy are worth the corresponding price. The market is determined by the relationship between supply and demand so our model will not destroy the balance. Within our knowledge, our project is unlikely to be misused."
      ]
    },
    {
      "cell_type": "markdown",
      "metadata": {
        "id": "R7ckMtG9yCde",
        "colab_type": "text"
      },
      "source": [
        "## Video Pitch\n"
      ]
    },
    {
      "cell_type": "markdown",
      "metadata": {
        "id": "cW3EcYmrpbP0",
        "colab_type": "text"
      },
      "source": [
        "https://www.youtube.com/watch?v=koAg_y_l3VY&feature=youtu.be"
      ]
    },
    {
      "cell_type": "markdown",
      "metadata": {
        "id": "92hbOYvXyHfE",
        "colab_type": "text"
      },
      "source": [
        "## Reference"
      ]
    },
    {
      "cell_type": "markdown",
      "metadata": {
        "id": "2HExQnaEyPP2",
        "colab_type": "text"
      },
      "source": [
        "LUMERA: The 4 C's Of Diamonds, & So Much More https://www.lumeradiamonds.com/diamond-education/index <br>\n",
        "Moor, J. (2006). The Nature, Importance, and Difficulty of Machine Ethics. IEEE Intelligent Systems, 21(4), pp.18-21.<br>"
      ]
    }
  ]
}